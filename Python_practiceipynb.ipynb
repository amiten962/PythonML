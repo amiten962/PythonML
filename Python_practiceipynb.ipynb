{
  "nbformat": 4,
  "nbformat_minor": 0,
  "metadata": {
    "colab": {
      "name": "Python practiceipynb",
      "private_outputs": true,
      "provenance": [],
      "collapsed_sections": [],
      "toc_visible": true,
      "authorship_tag": "ABX9TyOnm/KuCMJ+IH6JNNRHxIrT",
      "include_colab_link": true
    },
    "kernelspec": {
      "name": "python3",
      "display_name": "Python 3"
    },
    "language_info": {
      "name": "python"
    }
  },
  "cells": [
    {
      "cell_type": "markdown",
      "metadata": {
        "id": "view-in-github",
        "colab_type": "text"
      },
      "source": [
        "<a href=\"https://colab.research.google.com/github/amiten962/PythonML/blob/main/Python_practiceipynb.ipynb\" target=\"_parent\"><img src=\"https://colab.research.google.com/assets/colab-badge.svg\" alt=\"Open In Colab\"/></a>"
      ]
    },
    {
      "cell_type": "code",
      "execution_count": null,
      "metadata": {
        "id": "YuBAabq61yhU"
      },
      "outputs": [],
      "source": [
        "import numpy as np\n",
        "\n",
        "import pandas as pd\n",
        "\n",
        "#df1= pd.read_csv('/content/train_file.csv')\n",
        "\n",
        "#df2 = pd.DataFrame(df1)\n",
        "\n",
        "\n",
        "#df2.sort_values(\"Checkouts\", ascending = True ) \n",
        "\n",
        "\n",
        "\n"
      ]
    },
    {
      "cell_type": "code",
      "source": [
        "\n",
        "\n",
        "data1 = {'origin':  ['A', 'B', ...],\n",
        "        'Des': ['1', '2', ...],\n",
        "}\n",
        "\n",
        "df1 = pd.DataFrame(data1)\n",
        "\n",
        "df1"
      ],
      "metadata": {
        "id": "oo-NAUBQA5kA"
      },
      "execution_count": null,
      "outputs": []
    },
    {
      "cell_type": "code",
      "source": [
        "data2 = {'origin':  ['A', 'B','C', ...],\n",
        "        'Des': ['1', '2','3', ...],\n",
        "}\n",
        "\n",
        "df2 = pd.DataFrame(data2)\n",
        "df2\n",
        "\n",
        "Outer= pd.merge(df1,df2,on='Des',how='left') \n",
        "\n",
        "Outer"
      ],
      "metadata": {
        "id": "d--ge-TKEyMh"
      },
      "execution_count": null,
      "outputs": []
    },
    {
      "cell_type": "code",
      "source": [
        "Data3 = {'ID':['1','2','3'],\n",
        "         'name':['Amit','Sumit','Nishi']\n",
        "}\n",
        "\n",
        "df3 = pd.DataFrame(Data3)\n",
        "\n",
        "df3.info()\n"
      ],
      "metadata": {
        "id": "qAfhyXadJLHX"
      },
      "execution_count": null,
      "outputs": []
    },
    {
      "cell_type": "code",
      "source": [
        "# Sorting in pandas\n",
        "\n",
        "df2.sort_values([\"Checkouts\", \"CheckoutYear\"], ascending = [True,False])\n",
        "\n",
        "\n"
      ],
      "metadata": {
        "id": "ZwDcSJit68aL"
      },
      "execution_count": null,
      "outputs": []
    },
    {
      "cell_type": "code",
      "source": [
        "#Subsetting one  columns\n",
        "\n",
        "df2[\"Checkouts\"]\n",
        "\n",
        "# Subsetting  two columns\n",
        "\n",
        "df2[[\"Checkouts\",\"CheckoutYear\"]]"
      ],
      "metadata": {
        "id": "MYev6DHhDTT9"
      },
      "execution_count": null,
      "outputs": []
    },
    {
      "cell_type": "code",
      "source": [
        "# Subsetting rows\n",
        "\n",
        "df2[\"Checkouts\"] ==3\n",
        "\n",
        "# Subsetting rows aand Taking data out \n",
        "\n",
        "df2[df2[\"Checkouts\"] ==3]\n",
        "\n",
        "df2['Checkouts']\n",
        "\n"
      ],
      "metadata": {
        "id": "aFtFezORJetJ"
      },
      "execution_count": null,
      "outputs": []
    },
    {
      "cell_type": "code",
      "source": [
        "from google.colab import drive\n",
        "drive.mount('/content/drive')"
      ],
      "metadata": {
        "id": "1hrqemWF7VGr"
      },
      "execution_count": null,
      "outputs": []
    },
    {
      "cell_type": "code",
      "source": [
        "## Adding new columns\n",
        "\n",
        "df2[\"New Column\"]= 1\n",
        "\n",
        "df2['New Column']= df2['New Column'] + df2['Checkouts']\n",
        "df2"
      ],
      "metadata": {
        "id": "jw3dDTUmOAeQ"
      },
      "execution_count": null,
      "outputs": []
    },
    {
      "cell_type": "code",
      "source": [
        "## Summary Stats \n",
        "\n",
        "#df2['Checkouts'].mean()\n",
        "df2['Checkouts'].median()\n",
        "\n",
        "#df2['Checkouts'].mode()"
      ],
      "metadata": {
        "id": "vfwfrvOM8vmV"
      },
      "execution_count": null,
      "outputs": []
    },
    {
      "cell_type": "code",
      "source": [
        "##Python Program to Find Factorial of Number Using Recursion\n",
        "\n",
        "# Factorial of a number using recursion\n",
        "\n",
        "def recur_factorial(n):\n",
        "   if n == 1:\n",
        "       return n\n",
        "   else:\n",
        "       return n*recur_factorial(n-1)\n",
        "\n",
        "num = 3\n",
        "\n",
        "# check if the number is negative\n",
        "if num < 0:\n",
        "   print(\"Sorry, factorial does not exist for negative numbers\")\n",
        "elif num == 0:\n",
        "   print(\"The factorial of 0 is 1\")\n",
        "else:\n",
        "   print(\"The factorial of\", num, \"is\", recur_factorial(num))"
      ],
      "metadata": {
        "id": "bzhRU0C2txf-"
      },
      "execution_count": null,
      "outputs": []
    },
    {
      "cell_type": "code",
      "source": [
        "def primenum(n):\n",
        "   if n < 2:\n",
        "       return  False\n",
        "   for i in range(2,n):\n",
        "    if n%i==0:\n",
        "      return False\n",
        "    return True \n",
        "# Reading interval from user\n",
        "min_value = int(input('Enter minimum value: '))\n",
        "max_value = int(input('Enter maximum value: '))\n",
        "\n",
        "# Looping & displaying if it is prime\n",
        "# Here min_vale & max_value are included\n",
        "print('Prime numbers from %d to %d are:' %(min_value, max_value))\n",
        "for i in range(min_value, max_value+1):\n",
        "  if primenum(i):\n",
        "        print(i, end=' ')\n",
        "\n",
        "\n"
      ],
      "metadata": {
        "id": "EHHOImonub0f"
      },
      "execution_count": null,
      "outputs": []
    }
  ]
}